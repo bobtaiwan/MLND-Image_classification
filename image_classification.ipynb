{
 "cells": [
  {
   "cell_type": "markdown",
   "metadata": {
    "collapsed": true
   },
   "source": [
    "# Image Classification\n",
    "In this project, you'll classify images from the [CIFAR-10 dataset](https://www.cs.toronto.edu/~kriz/cifar.html).  The dataset consists of airplanes, dogs, cats, and other objects. You'll preprocess the images, then train a convolutional neural network on all the samples. The images need to be normalized and the labels need to be one-hot encoded.  You'll get to apply what you learned and build a convolutional, max pooling, dropout, and fully connected layers.  At the end, you'll get to see your neural network's predictions on the sample images.\n",
    "## Get the Data\n",
    "Run the following cell to download the [CIFAR-10 dataset for python](https://www.cs.toronto.edu/~kriz/cifar-10-python.tar.gz)."
   ]
  },
  {
   "cell_type": "code",
   "execution_count": 1,
   "metadata": {},
   "outputs": [
    {
     "name": "stdout",
     "output_type": "stream",
     "text": [
      "All files found!\n"
     ]
    }
   ],
   "source": [
    "\"\"\"\n",
    "DON'T MODIFY ANYTHING IN THIS CELL THAT IS BELOW THIS LINE\n",
    "\"\"\"\n",
    "from urllib.request import urlretrieve\n",
    "from os.path import isfile, isdir\n",
    "from tqdm import tqdm\n",
    "import problem_unittests as tests\n",
    "import tarfile\n",
    "\n",
    "cifar10_dataset_folder_path = 'cifar-10-batches-py'\n",
    "\n",
    "class DLProgress(tqdm):\n",
    "    last_block = 0\n",
    "\n",
    "    def hook(self, block_num=1, block_size=1, total_size=None):\n",
    "        self.total = total_size\n",
    "        self.update((block_num - self.last_block) * block_size)\n",
    "        self.last_block = block_num\n",
    "\n",
    "if not isfile('cifar-10-python.tar.gz'):\n",
    "    with DLProgress(unit='B', unit_scale=True, miniters=1, desc='CIFAR-10 Dataset') as pbar:\n",
    "        urlretrieve(\n",
    "            'https://www.cs.toronto.edu/~kriz/cifar-10-python.tar.gz',\n",
    "            'cifar-10-python.tar.gz',\n",
    "            pbar.hook)\n",
    "\n",
    "if not isdir(cifar10_dataset_folder_path):\n",
    "    with tarfile.open('cifar-10-python.tar.gz') as tar:\n",
    "        tar.extractall()\n",
    "        tar.close()\n",
    "\n",
    "\n",
    "tests.test_folder_path(cifar10_dataset_folder_path)"
   ]
  },
  {
   "cell_type": "markdown",
   "metadata": {},
   "source": [
    "## Explore the Data\n",
    "The dataset is broken into batches to prevent your machine from running out of memory.  The CIFAR-10 dataset consists of 5 batches, named `data_batch_1`, `data_batch_2`, etc.. Each batch contains the labels and images that are one of the following:\n",
    "* airplane\n",
    "* automobile\n",
    "* bird\n",
    "* cat\n",
    "* deer\n",
    "* dog\n",
    "* frog\n",
    "* horse\n",
    "* ship\n",
    "* truck\n",
    "\n",
    "Understanding a dataset is part of making predictions on the data.  Play around with the code cell below by changing the `batch_id` and `sample_id`. The `batch_id` is the id for a batch (1-5). The `sample_id` is the id for a image and label pair in the batch.\n",
    "\n",
    "Ask yourself \"What are all possible labels?\", \"What is the range of values for the image data?\", \"Are the labels in order or random?\".  Answers to questions like these will help you preprocess the data and end up with better predictions."
   ]
  },
  {
   "cell_type": "code",
   "execution_count": 2,
   "metadata": {},
   "outputs": [
    {
     "name": "stdout",
     "output_type": "stream",
     "text": [
      "\n",
      "Stats of batch 1:\n",
      "Samples: 10000\n",
      "Label Counts: {0: 1005, 1: 974, 2: 1032, 3: 1016, 4: 999, 5: 937, 6: 1030, 7: 1001, 8: 1025, 9: 981}\n",
      "First 20 Labels: [6, 9, 9, 4, 1, 1, 2, 7, 8, 3, 4, 7, 7, 2, 9, 9, 9, 3, 2, 6]\n",
      "\n",
      "Example of Image 5:\n",
      "Image - Min Value: 0 Max Value: 252\n",
      "Image - Shape: (32, 32, 3)\n",
      "Label - Label Id: 1 Name: automobile\n"
     ]
    },
    {
     "data": {
      "image/png": "[encoded data removed]",
      "text/plain": [
       "<matplotlib.figure.Figure at 0x117535ac8>"
      ]
     },
     "metadata": {
      "image/png": {
       "height": 250,
       "width": 253
      }
     },
     "output_type": "display_data"
    }
   ],
   "source": [
    "%matplotlib inline\n",
    "%config InlineBackend.figure_format = 'retina'\n",
    "\n",
    "import helper\n",
    "import numpy as np\n",
    "\n",
    "# Explore the dataset\n",
    "batch_id = 1\n",
    "sample_id = 5\n",
    "helper.display_stats(cifar10_dataset_folder_path, batch_id, sample_id)"
   ]
  },
  {
   "cell_type": "markdown",
   "metadata": {},
   "source": [
    "## Implement Preprocess Functions\n",
    "### Normalize\n",
    "In the cell below, implement the `normalize` function to take in image data, `x`, and return it as a normalized Numpy array. The values should be in the range of 0 to 1, inclusive.  The return object should be the same shape as `x`."
   ]
  },
  {
   "cell_type": "code",
   "execution_count": 3,
   "metadata": {},
   "outputs": [
    {
     "name": "stdout",
     "output_type": "stream",
     "text": [
      "Tests Passed\n"
     ]
    }
   ],
   "source": [
    "def normalize(x):\n",
    "    \"\"\"\n",
    "    Normalize a list of sample image data in the range of 0 to 1\n",
    "    : x: List of image data.  The image shape is (32, 32, 3)\n",
    "    : return: Numpy array of normalize data\n",
    "    \"\"\"\n",
    "    # TODO: Implement Function\n",
    "    x=x.astype(\"float32\")/255\n",
    "    return x\n",
    "\n",
    "\n",
    "\"\"\"\n",
    "DON'T MODIFY ANYTHING IN THIS CELL THAT IS BELOW THIS LINE\n",
    "\"\"\"\n",
    "tests.test_normalize(normalize)"
   ]
  },
  {
   "cell_type": "markdown",
   "metadata": {},
   "source": [
    "### One-hot encode\n",
    "Just like the previous code cell, you'll be implementing a function for preprocessing.  This time, you'll implement the `one_hot_encode` function. The input, `x`, are a list of labels.  Implement the function to return the list of labels as One-Hot encoded Numpy array.  The possible values for labels are 0 to 9. The one-hot encoding function should return the same encoding for each value between each call to `one_hot_encode`.  Make sure to save the map of encodings outside the function.\n",
    "\n",
    "**Hint:**\n",
    "\n",
    "Look into LabelBinarizer in the preprocessing module of sklearn."
   ]
  },
  {
   "cell_type": "code",
   "execution_count": 4,
   "metadata": {},
   "outputs": [
    {
     "name": "stdout",
     "output_type": "stream",
     "text": [
      "Tests Passed\n"
     ]
    }
   ],
   "source": [
    "\n",
    "def one_hot_encode(x):\n",
    "    \"\"\"\n",
    "    One hot encode a list of sample labels. Return a one-hot encoded vector for each label.\n",
    "    : x: List of sample Labels\n",
    "    : return: Numpy array of one-hot encoded labels\n",
    "    \"\"\"\n",
    "    # TODO: Implement Function\n",
    "    from sklearn import preprocessing\n",
    "    lb = preprocessing.LabelBinarizer()\n",
    "    lb = lb.fit([0,1,2,3,4,5,6,7,8,9])\n",
    "\n",
    "    return np.array(lb.transform(x))\n",
    "\n",
    "\n",
    "\"\"\"\n",
    "DON'T MODIFY ANYTHING IN THIS CELL THAT IS BELOW THIS LINE\n",
    "\"\"\"\n",
    "tests.test_one_hot_encode(one_hot_encode)"
   ]
  },
  {
   "cell_type": "markdown",
   "metadata": {},
   "source": [
    "### Randomize Data\n",
    "As you saw from exploring the data above, the order of the samples are randomized.  It doesn't hurt to randomize it again, but you don't need to for this dataset."
   ]
  },
  {
   "cell_type": "markdown",
   "metadata": {},
   "source": [
    "## Preprocess all the data and save it\n",
    "Running the code cell below will preprocess all the CIFAR-10 data and save it to file. The code below also uses 10% of the training data for validation."
   ]
  },
  {
   "cell_type": "code",
   "execution_count": 5,
   "metadata": {
    "collapsed": true
   },
   "outputs": [],
   "source": [
    "\"\"\"\n",
    "DON'T MODIFY ANYTHING IN THIS CELL\n",
    "\"\"\"\n",
    "# Preprocess Training, Validation, and Testing Data\n",
    "helper.preprocess_and_save_data(cifar10_dataset_folder_path, normalize, one_hot_encode)"
   ]
  },
  {
   "cell_type": "markdown",
   "metadata": {},
   "source": [
    "# Check Point\n",
    "This is your first checkpoint.  If you ever decide to come back to this notebook or have to restart the notebook, you can start from here.  The preprocessed data has been saved to disk."
   ]
  },
  {
   "cell_type": "code",
   "execution_count": 6,
   "metadata": {
    "collapsed": true
   },
   "outputs": [],
   "source": [
    "\"\"\"\n",
    "DON'T MODIFY ANYTHING IN THIS CELL\n",
    "\"\"\"\n",
    "import pickle\n",
    "import problem_unittests as tests\n",
    "import helper\n",
    "\n",
    "# Load the Preprocessed Validation data\n",
    "valid_features, valid_labels = pickle.load(open('preprocess_validation.p', mode='rb'))"
   ]
  },
  {
   "cell_type": "markdown",
   "metadata": {},
   "source": [
    "## Build the network\n",
    "For the neural network, you'll build each layer into a function.  Most of the code you've seen has been outside of functions. To test your code more thoroughly, we require that you put each layer in a function.  This allows us to give you better feedback and test for simple mistakes using our unittests before you submit your project.\n",
    "\n",
    ">**Note:** If you're finding it hard to dedicate enough time for this course each week, we've provided a small shortcut to this part of the project. In the next couple of problems, you'll have the option to use classes from the [TensorFlow Layers](https://www.tensorflow.org/api_docs/python/tf/layers) or [TensorFlow Layers (contrib)](https://www.tensorflow.org/api_guides/python/contrib.layers) packages to build each layer, except the layers you build in the \"Convolutional and Max Pooling Layer\" section.  TF Layers is similar to Keras's and TFLearn's abstraction to layers, so it's easy to pickup.\n",
    "\n",
    ">However, if you would like to get the most out of this course, try to solve all the problems _without_ using anything from the TF Layers packages. You **can** still use classes from other packages that happen to have the same name as ones you find in TF Layers! For example, instead of using the TF Layers version of the `conv2d` class, [tf.layers.conv2d](https://www.tensorflow.org/api_docs/python/tf/layers/conv2d), you would want to use the TF Neural Network version of `conv2d`, [tf.nn.conv2d](https://www.tensorflow.org/api_docs/python/tf/nn/conv2d). \n",
    "\n",
    "Let's begin!\n",
    "\n",
    "### Input\n",
    "The neural network needs to read the image data, one-hot encoded labels, and dropout keep probability. Implement the following functions\n",
    "* Implement `neural_net_image_input`\n",
    " * Return a [TF Placeholder](https://www.tensorflow.org/api_docs/python/tf/placeholder)\n",
    " * Set the shape using `image_shape` with batch size set to `None`.\n",
    " * Name the TensorFlow placeholder \"x\" using the TensorFlow `name` parameter in the [TF Placeholder](https://www.tensorflow.org/api_docs/python/tf/placeholder).\n",
    "* Implement `neural_net_label_input`\n",
    " * Return a [TF Placeholder](https://www.tensorflow.org/api_docs/python/tf/placeholder)\n",
    " * Set the shape using `n_classes` with batch size set to `None`.\n",
    " * Name the TensorFlow placeholder \"y\" using the TensorFlow `name` parameter in the [TF Placeholder](https://www.tensorflow.org/api_docs/python/tf/placeholder).\n",
    "* Implement `neural_net_keep_prob_input`\n",
    " * Return a [TF Placeholder](https://www.tensorflow.org/api_docs/python/tf/placeholder) for dropout keep probability.\n",
    " * Name the TensorFlow placeholder \"keep_prob\" using the TensorFlow `name` parameter in the [TF Placeholder](https://www.tensorflow.org/api_docs/python/tf/placeholder).\n",
    "\n",
    "These names will be used at the end of the project to load your saved model.\n",
    "\n",
    "Note: `None` for shapes in TensorFlow allow for a dynamic size."
   ]
  },
  {
   "cell_type": "code",
   "execution_count": 7,
   "metadata": {},
   "outputs": [
    {
     "name": "stdout",
     "output_type": "stream",
     "text": [
      "Image Input Tests Passed.\n",
      "Label Input Tests Passed.\n",
      "Keep Prob Tests Passed.\n"
     ]
    }
   ],
   "source": [
    "import tensorflow as tf\n",
    "\n",
    "def neural_net_image_input(image_shape):\n",
    "    \"\"\"\n",
    "    Return a Tensor for a batch of image input\n",
    "    : image_shape: Shape of the images\n",
    "    : return: Tensor for image input.\n",
    "    \"\"\"\n",
    "    # TODO: Implement Function\n",
    "    tensor_input_shape = tf.placeholder(tf.float32, shape = (None,image_shape[0],image_shape[1],image_shape[2]), name='x')\n",
    "    return tensor_input_shape\n",
    "\n",
    "\n",
    "\n",
    "def neural_net_label_input(n_classes):\n",
    "    \"\"\"\n",
    "    Return a Tensor for a batch of label input\n",
    "    : n_classes: Number of classes\n",
    "    : return: Tensor for label input.\n",
    "    \"\"\"\n",
    "    # TODO: Implement Function\n",
    "    tensor_labels = tf.placeholder(tf.float32, shape = (None, n_classes), name='y')\n",
    "    return tensor_labels\n",
    "\n",
    "\n",
    "def neural_net_keep_prob_input():\n",
    "    \"\"\"\n",
    "    Return a Tensor for keep probability\n",
    "    : return: Tensor for keep probability.\n",
    "    \"\"\"\n",
    "    # TODO: Implement Function\n",
    "    tensor_keep_prob = tf.placeholder(tf.float32, name=\"keep_prob\")\n",
    "    return tensor_keep_prob\n",
    "\n",
    "\n",
    "\n",
    "\"\"\"\n",
    "DON'T MODIFY ANYTHING IN THIS CELL THAT IS BELOW THIS LINE\n",
    "\"\"\"\n",
    "tf.reset_default_graph()\n",
    "tests.test_nn_image_inputs(neural_net_image_input)\n",
    "tests.test_nn_label_inputs(neural_net_label_input)\n",
    "tests.test_nn_keep_prob_inputs(neural_net_keep_prob_input)"
   ]
  },
  {
   "cell_type": "markdown",
   "metadata": {},
   "source": [
    "### Convolution and Max Pooling Layer\n",
    "Convolution layers have a lot of success with images. For this code cell, you should implement the function `conv2d_maxpool` to apply convolution then max pooling:\n",
    "* Create the weight and bias using `conv_ksize`, `conv_num_outputs` and the shape of `x_tensor`.\n",
    "* Apply a convolution to `x_tensor` using weight and `conv_strides`.\n",
    " * We recommend you use same padding, but you're welcome to use any padding.\n",
    "* Add bias\n",
    "* Add a nonlinear activation to the convolution.\n",
    "* Apply Max Pooling using `pool_ksize` and `pool_strides`.\n",
    " * We recommend you use same padding, but you're welcome to use any padding.\n",
    "\n",
    "**Note:** You **can't** use [TensorFlow Layers](https://www.tensorflow.org/api_docs/python/tf/layers) or [TensorFlow Layers (contrib)](https://www.tensorflow.org/api_guides/python/contrib.layers) for **this** layer, but you can still use TensorFlow's [Neural Network](https://www.tensorflow.org/api_docs/python/tf/nn) package. You may still use the shortcut option for all the **other** layers.\n",
    "\n",
    "** Hint: **\n",
    "\n",
    "When unpacking values as an argument in Python, look into the [unpacking](https://docs.python.org/3/tutorial/controlflow.html#unpacking-argument-lists) operator. "
   ]
  },
  {
   "cell_type": "code",
   "execution_count": 8,
   "metadata": {},
   "outputs": [
    {
     "name": "stdout",
     "output_type": "stream",
     "text": [
      "Tests Passed\n"
     ]
    }
   ],
   "source": [
    "def conv2d_maxpool(x_tensor, conv_num_outputs, conv_ksize, conv_strides, pool_ksize, pool_strides):\n",
    "    \"\"\"\n",
    "    Apply convolution then max pooling to x_tensor\n",
    "    :param x_tensor: TensorFlow Tensor\n",
    "    :param conv_num_outputs: Number of outputs for the convolutional layer\n",
    "    :param conv_ksize: kernal size 2-D Tuple for the convolutional layer\n",
    "    :param conv_strides: Stride 2-D Tuple for convolution\n",
    "    :param pool_ksize: kernal size 2-D Tuple for pool\n",
    "    :param pool_strides: Stride 2-D Tuple for pool\n",
    "    : return: A tensor that represents convolution and max pooling of x_tensor\n",
    "    \"\"\"\n",
    "    # TODO: Implement Function\n",
    "    \n",
    "    #print(x_tensor)\n",
    "    #print(\"conv_num_outputs, \", conv_num_outputs)\n",
    "    #print(\"conv_kernal_size, \", conv_ksize)\n",
    "    #print(\"conv_strides    , \", conv_strides)\n",
    "    #print(\"pool_kernal_size, \", pool_ksize)\n",
    "    #print(\"pool_strides    , \", pool_strides)\n",
    "    \n",
    "    input_depth = x_tensor.get_shape().as_list()[3]\n",
    "    filter_shape = [conv_ksize[0], conv_ksize[1], input_depth, conv_num_outputs]\n",
    "    weights = tf.Variable(tf.truncated_normal(filter_shape))\n",
    "    \n",
    "    bias = tf.Variable(tf.random_normal([conv_num_outputs]))\n",
    "    \n",
    "    conv_strides=[1] + list(conv_strides) + [1]\n",
    "    conv = tf.nn.conv2d(input=x_tensor, filter=weights, strides = conv_strides , padding = 'SAME')\n",
    "    conv = tf.nn.bias_add(conv, bias)\n",
    "\n",
    "    \n",
    "    pool_strides=[1] + list(pool_strides) + [1]\n",
    "    pool_ksize=[1] + list(pool_ksize) + [1]\n",
    "    tensor_conv2d_maxpool=tf.nn.max_pool(conv, ksize = pool_ksize , strides = pool_strides , padding='SAME') \n",
    "    \n",
    "    return tf.nn.relu(tensor_conv2d_maxpool)\n",
    "\n",
    "\n",
    "\"\"\"\n",
    "DON'T MODIFY ANYTHING IN THIS CELL THAT IS BELOW THIS LINE\n",
    "\"\"\"\n",
    "tests.test_con_pool(conv2d_maxpool)"
   ]
  },
  {
   "cell_type": "markdown",
   "metadata": {},
   "source": [
    "### Flatten Layer\n",
    "Implement the `flatten` function to change the dimension of `x_tensor` from a 4-D tensor to a 2-D tensor.  The output should be the shape (*Batch Size*, *Flattened Image Size*). Shortcut option: you can use classes from the [TensorFlow Layers](https://www.tensorflow.org/api_docs/python/tf/layers) or [TensorFlow Layers (contrib)](https://www.tensorflow.org/api_guides/python/contrib.layers) packages for this layer. For more of a challenge, only use other TensorFlow packages."
   ]
  },
  {
   "cell_type": "code",
   "execution_count": 9,
   "metadata": {},
   "outputs": [
    {
     "name": "stdout",
     "output_type": "stream",
     "text": [
      "Tests Passed\n"
     ]
    }
   ],
   "source": [
    "\n",
    "def flatten(x_tensor):\n",
    "    \"\"\"\n",
    "    Flatten x_tensor to (Batch Size, Flattened Image Size)\n",
    "    : x_tensor: A tensor of size (Batch Size, ...), where ... are the image dimensions.\n",
    "    : return: A tensor of size (Batch Size, Flattened Image Size).\n",
    "    \"\"\"\n",
    "    # TODO: Implement Function\n",
    "    #print(\"flatten, \",x_tensor.get_shape())\n",
    "    #batch_size, dim1, dim2, dim3 = x_tensor.get_shape().as_list()\n",
    "    #flat_dims = dim1 * dim2 * dim3\n",
    "    #return tf.reshape(x_tensor, [-1, flat_dims])\n",
    "    layer_shape=x_tensor.get_shape()\n",
    "    num_features=layer_shape[1:4].num_elements()\n",
    "    flat=tf.reshape(x_tensor,[-1, num_features])\n",
    "    return flat\n",
    "    #return tf.contrib.layers.flatten(x_tensor)\n",
    "\n",
    "\n",
    "\"\"\"\n",
    "DON'T MODIFY ANYTHING IN THIS CELL THAT IS BELOW THIS LINE\n",
    "\"\"\"\n",
    "tests.test_flatten(flatten)"
   ]
  },
  {
   "cell_type": "markdown",
   "metadata": {},
   "source": [
    "### Fully-Connected Layer\n",
    "Implement the `fully_conn` function to apply a fully connected layer to `x_tensor` with the shape (*Batch Size*, *num_outputs*). Shortcut option: you can use classes from the [TensorFlow Layers](https://www.tensorflow.org/api_docs/python/tf/layers) or [TensorFlow Layers (contrib)](https://www.tensorflow.org/api_guides/python/contrib.layers) packages for this layer. For more of a challenge, only use other TensorFlow packages."
   ]
  },
  {
   "cell_type": "code",
   "execution_count": 10,
   "metadata": {},
   "outputs": [
    {
     "name": "stdout",
     "output_type": "stream",
     "text": [
      "Tests Passed\n"
     ]
    }
   ],
   "source": [
    "def fully_conn(x_tensor, num_outputs):\n",
    "    \"\"\"\n",
    "    Apply a fully connected layer to x_tensor using weight and bias\n",
    "    : x_tensor: A 2-D tensor where the first dimension is batch size.\n",
    "    : num_outputs: The number of output that the new tensor should be.\n",
    "    : return: A 2-D tensor where the second dimension is num_outputs.\n",
    "    \"\"\"\n",
    "    # TODO: Implement Function\n",
    "\n",
    "    weights = tf.Variable(tf.truncated_normal([x_tensor.get_shape().as_list()[-1], num_outputs], stddev=0.05))\n",
    "    \n",
    "    #num_inputs= x_tensor.get_shape().as_list()[-1]\n",
    "    #shape=[num_inputs, num_outputs]\n",
    "    #weights = tf.Variable(tf.truncated_normal(shape, stddev=0.05))\n",
    "\n",
    "    biases = tf.Variable(tf.random_normal([num_outputs]))\n",
    "    #conn_output = tf.add(tf.matmul(x_tensor, weights), biases)\n",
    "    conn_output =  tf.matmul(x_tensor, weights) + biases\n",
    "    conn_output =  tf.nn.relu(conn_output)\n",
    "    return conn_output\n",
    "\n",
    "\n",
    "\"\"\"\n",
    "DON'T MODIFY ANYTHING IN THIS CELL THAT IS BELOW THIS LINE\n",
    "\"\"\"\n",
    "tests.test_fully_conn(fully_conn)"
   ]
  },
  {
   "cell_type": "markdown",
   "metadata": {},
   "source": [
    "### Output Layer\n",
    "Implement the `output` function to apply a fully connected layer to `x_tensor` with the shape (*Batch Size*, *num_outputs*). Shortcut option: you can use classes from the [TensorFlow Layers](https://www.tensorflow.org/api_docs/python/tf/layers) or [TensorFlow Layers (contrib)](https://www.tensorflow.org/api_guides/python/contrib.layers) packages for this layer. For more of a challenge, only use other TensorFlow packages.\n",
    "\n",
    "**Note:** Activation, softmax, or cross entropy should **not** be applied to this."
   ]
  },
  {
   "cell_type": "code",
   "execution_count": 11,
   "metadata": {},
   "outputs": [
    {
     "name": "stdout",
     "output_type": "stream",
     "text": [
      "Tests Passed\n"
     ]
    }
   ],
   "source": [
    "def output(x_tensor, num_outputs):\n",
    "    \"\"\"\n",
    "    Apply a output layer to x_tensor using weight and bias\n",
    "    : x_tensor: A 2-D tensor where the first dimension is batch size.\n",
    "    : num_outputs: The number of output that the new tensor should be.\n",
    "    : return: A 2-D tensor where the second dimension is num_outputs.\n",
    "    \"\"\"\n",
    "    # TODO: Implement Function\n",
    "    #num_inputs= x_tensor.get_shape().as_list()[-1]\n",
    "    #shape=[num_inputs, num_outputs]\n",
    "    #weights = tf.Variable(tf.truncated_normal(shape, stddev=0.05))\n",
    "    weights = tf.Variable(tf.truncated_normal([x_tensor.get_shape().as_list()[1], num_outputs],stddev=0.05))\n",
    "    biases = tf.Variable(tf.random_normal([num_outputs]))\n",
    "    #conn_output = tf.add(tf.matmul(x_tensor, weights), biases)\n",
    "    conn_output = tf.matmul(x_tensor, weights) + biases\n",
    "    return conn_output\n",
    "    #return tf.reshape(x_tensor, [-1, num_outputs])\n",
    "    #return tf.contrib.layers.fully_connected(inputs = x_tensor, num_outputs = num_outputs,  activation_fn = None)\n",
    "\n",
    "\n",
    "\"\"\"\n",
    "DON'T MODIFY ANYTHING IN THIS CELL THAT IS BELOW THIS LINE\n",
    "\"\"\"\n",
    "tests.test_output(output)"
   ]
  },
  {
   "cell_type": "markdown",
   "metadata": {},
   "source": [
    "### Create Convolutional Model\n",
    "Implement the function `conv_net` to create a convolutional neural network model. The function takes in a batch of images, `x`, and outputs logits.  Use the layers you created above to create this model:\n",
    "\n",
    "* Apply 1, 2, or 3 Convolution and Max Pool layers\n",
    "* Apply a Flatten Layer\n",
    "* Apply 1, 2, or 3 Fully Connected Layers\n",
    "* Apply an Output Layer\n",
    "* Return the output\n",
    "* Apply [TensorFlow's Dropout](https://www.tensorflow.org/api_docs/python/tf/nn/dropout) to one or more layers in the model using `keep_prob`. "
   ]
  },
  {
   "cell_type": "code",
   "execution_count": 12,
   "metadata": {},
   "outputs": [
    {
     "name": "stdout",
     "output_type": "stream",
     "text": [
      "Neural Network Built!\n"
     ]
    }
   ],
   "source": [
    "def conv_net(x, keep_prob):\n",
    "    \"\"\"\n",
    "    Create a convolutional neural network model\n",
    "    : x: Placeholder tensor that holds image data.\n",
    "    : keep_prob: Placeholder tensor that hold dropout keep probability.\n",
    "    : return: Tensor that represents logits\n",
    "    \"\"\"\n",
    "    # TODO: Apply 1, 2, or 3 Convolution and Max Pool layers\n",
    "    #    Play around with different number of outputs, kernel size and stride\n",
    "    # Function Definition from Above:\n",
    "    #    conv2d_maxpool(x_tensor, conv_num_outputs, conv_ksize, conv_strides, pool_ksize, pool_strides)\n",
    "    \n",
    "    model = conv2d_maxpool(x, 32, (3, 3), (1, 1), (2, 2), (2, 2))\n",
    "    \n",
    "    #print (model.get_shape().as_list())\n",
    "    model = conv2d_maxpool(model, 64, (3, 3), (1, 1), (2, 2), (2, 2))\n",
    "    #model = tf.nn.dropout(model, keep_prob)\n",
    "    #model = conv2d_maxpool(model, 128, (3, 3), (1, 1), (2, 2), (2, 2))\n",
    "    #model = tf.nn.dropout(model, keep_prob)\n",
    "    \n",
    "    # TODO: Apply a Flatten Layer\n",
    "    # Function Definition from Above:\n",
    "    #   flatten(x_tensor)\n",
    "    model = flatten(model)\n",
    "\n",
    "    # TODO: Apply 1, 2, or 3 Fully Connected Layers\n",
    "    #    Play around with different number of outputs\n",
    "    # Function Definition from Above:\n",
    "    #   fully_conn(x_tensor, num_outputs)\n",
    "    model = fully_conn(model, 1024)\n",
    " \n",
    "    model = fully_conn(model, 512)\n",
    "    model = tf.nn.dropout(model, keep_prob)\n",
    "    \n",
    "    \n",
    "    # TODO: Apply an Output Layer\n",
    "    #    Set this to the number of classes\n",
    "    # Function Definition from Above:\n",
    "    #   output(x_tensor, num_outputs)\n",
    "    result = output(model, 10)\n",
    "    \n",
    "    \n",
    "    # TODO: return output\n",
    "    return result\n",
    "    #return tf.nn.relu(result)\n",
    "\n",
    "\n",
    "\"\"\"\n",
    "DON'T MODIFY ANYTHING IN THIS CELL THAT IS BELOW THIS LINE\n",
    "\"\"\"\n",
    "\n",
    "##############################\n",
    "## Build the Neural Network ##\n",
    "##############################\n",
    "\n",
    "# Remove previous weights, bias, inputs, etc..\n",
    "tf.reset_default_graph()\n",
    "\n",
    "# Inputs\n",
    "x = neural_net_image_input((32, 32, 3))\n",
    "y = neural_net_label_input(10)\n",
    "keep_prob = neural_net_keep_prob_input()\n",
    "\n",
    "# Model\n",
    "logits = conv_net(x, keep_prob)\n",
    "\n",
    "# Name logits Tensor, so that is can be loaded from disk after training\n",
    "logits = tf.identity(logits, name='logits')\n",
    "\n",
    "# Loss and Optimizer\n",
    "cost = tf.reduce_mean(tf.nn.softmax_cross_entropy_with_logits(logits=logits, labels=y))\n",
    "optimizer = tf.train.AdamOptimizer().minimize(cost)\n",
    "\n",
    "# Accuracy\n",
    "correct_pred = tf.equal(tf.argmax(logits, 1), tf.argmax(y, 1))\n",
    "accuracy = tf.reduce_mean(tf.cast(correct_pred, tf.float32), name='accuracy')\n",
    "\n",
    "tests.test_conv_net(conv_net)"
   ]
  },
  {
   "cell_type": "markdown",
   "metadata": {},
   "source": [
    "## Train the Neural Network\n",
    "### Single Optimization\n",
    "Implement the function `train_neural_network` to do a single optimization.  The optimization should use `optimizer` to optimize in `session` with a `feed_dict` of the following:\n",
    "* `x` for image input\n",
    "* `y` for labels\n",
    "* `keep_prob` for keep probability for dropout\n",
    "\n",
    "This function will be called for each batch, so `tf.global_variables_initializer()` has already been called.\n",
    "\n",
    "Note: Nothing needs to be returned. This function is only optimizing the neural network."
   ]
  },
  {
   "cell_type": "code",
   "execution_count": 13,
   "metadata": {},
   "outputs": [
    {
     "name": "stdout",
     "output_type": "stream",
     "text": [
      "Tests Passed\n"
     ]
    }
   ],
   "source": [
    "def train_neural_network(session, optimizer, keep_probability, feature_batch, label_batch):\n",
    "    \"\"\"\n",
    "    Optimize the session on a batch of images and labels\n",
    "    : session: Current TensorFlow session\n",
    "    : optimizer: TensorFlow optimizer function\n",
    "    : keep_probability: keep probability\n",
    "    : feature_batch: Batch of Numpy image data\n",
    "    : label_batch: Batch of Numpy label data\n",
    "    \"\"\"\n",
    "    # TODO: Implement Function\n",
    "    #for batch in range(feature_batch.shape[0]);\n",
    "    session.run(optimizer, feed_dict={x: feature_batch, y: label_batch, keep_prob: keep_probability})\n",
    "    \n",
    "\n",
    "\n",
    "    \n",
    "\"\"\"\n",
    "DON'T MODIFY ANYTHING IN THIS CELL THAT IS BELOW THIS LINE\n",
    "\"\"\"\n",
    "tests.test_train_nn(train_neural_network)"
   ]
  },
  {
   "cell_type": "markdown",
   "metadata": {},
   "source": [
    "### Show Stats\n",
    "Implement the function `print_stats` to print loss and validation accuracy.  Use the global variables `valid_features` and `valid_labels` to calculate validation accuracy.  Use a keep probability of `1.0` to calculate the loss and validation accuracy."
   ]
  },
  {
   "cell_type": "code",
   "execution_count": 14,
   "metadata": {
    "collapsed": true
   },
   "outputs": [],
   "source": [
    "def print_stats(session, feature_batch, label_batch, cost, accuracy):\n",
    "    \"\"\"\n",
    "    Print information about loss and validation accuracy\n",
    "    : session: Current TensorFlow session\n",
    "    : feature_batch: Batch of Numpy image data\n",
    "    : label_batch: Batch of Numpy label data\n",
    "    : cost: TensorFlow cost function\n",
    "    : accuracy: TensorFlow accuracy function\n",
    "    \"\"\"\n",
    "    # TODO: Implement Function\n",
    "    \n",
    "    loss = session.run(cost, feed_dict={x: feature_batch, y: label_batch, keep_prob: 1.0})\n",
    "    accuracy = session.run(accuracy, feed_dict={x: valid_features, y: valid_labels, keep_prob: 1.0})\n",
    "    print(\"Loss: {} \\n Accuracy: {}.\".format(loss, accuracy))\n",
    "    "
   ]
  },
  {
   "cell_type": "markdown",
   "metadata": {},
   "source": [
    "### Hyperparameters\n",
    "Tune the following parameters:\n",
    "* Set `epochs` to the number of iterations until the network stops learning or start overfitting\n",
    "* Set `batch_size` to the highest number that your machine has memory for.  Most people set them to common sizes of memory:\n",
    " * 64\n",
    " * 128\n",
    " * 256\n",
    " * ...\n",
    "* Set `keep_probability` to the probability of keeping a node using dropout"
   ]
  },
  {
   "cell_type": "code",
   "execution_count": 15,
   "metadata": {
    "collapsed": true
   },
   "outputs": [],
   "source": [
    "# TODO: Tune Parameters\n",
    "epochs = 20\n",
    "batch_size = 64\n",
    "keep_probability = 0.8"
   ]
  },
  {
   "cell_type": "markdown",
   "metadata": {},
   "source": [
    "### Train on a Single CIFAR-10 Batch\n",
    "Instead of training the neural network on all the CIFAR-10 batches of data, let's use a single batch. This should save time while you iterate on the model to get a better accuracy.  Once the final validation accuracy is 50% or greater, run the model on all the data in the next section."
   ]
  },
  {
   "cell_type": "code",
   "execution_count": 16,
   "metadata": {},
   "outputs": [
    {
     "name": "stdout",
     "output_type": "stream",
     "text": [
      "Checking the Training on a Single Batch...\n",
      "Epoch  1, CIFAR-10 Batch 1:  Loss: 2.219618558883667 \n",
      " Accuracy: 0.24639999866485596.\n",
      "Epoch  2, CIFAR-10 Batch 1:  Loss: 2.03022837638855 \n",
      " Accuracy: 0.2809999883174896.\n",
      "Epoch  3, CIFAR-10 Batch 1:  Loss: 1.9053103923797607 \n",
      " Accuracy: 0.35519999265670776.\n",
      "Epoch  4, CIFAR-10 Batch 1:  Loss: 1.8501132726669312 \n",
      " Accuracy: 0.36820000410079956.\n",
      "Epoch  5, CIFAR-10 Batch 1:  Loss: 1.702219009399414 \n",
      " Accuracy: 0.37139999866485596.\n",
      "Epoch  6, CIFAR-10 Batch 1:  Loss: 1.6749951839447021 \n",
      " Accuracy: 0.3898000121116638.\n",
      "Epoch  7, CIFAR-10 Batch 1:  Loss: 1.6071186065673828 \n",
      " Accuracy: 0.41200000047683716.\n",
      "Epoch  8, CIFAR-10 Batch 1:  Loss: 1.4201942682266235 \n",
      " Accuracy: 0.43160000443458557.\n",
      "Epoch  9, CIFAR-10 Batch 1:  Loss: 1.4583052396774292 \n",
      " Accuracy: 0.460999995470047.\n",
      "Epoch 10, CIFAR-10 Batch 1:  Loss: 1.3835349082946777 \n",
      " Accuracy: 0.4514000117778778.\n",
      "Epoch 11, CIFAR-10 Batch 1:  Loss: 1.205007791519165 \n",
      " Accuracy: 0.4659999907016754.\n",
      "Epoch 12, CIFAR-10 Batch 1:  Loss: 1.1257859468460083 \n",
      " Accuracy: 0.4747999906539917.\n",
      "Epoch 13, CIFAR-10 Batch 1:  Loss: 1.2092549800872803 \n",
      " Accuracy: 0.45739999413490295.\n",
      "Epoch 14, CIFAR-10 Batch 1:  Loss: 0.9903755187988281 \n",
      " Accuracy: 0.4934000074863434.\n",
      "Epoch 15, CIFAR-10 Batch 1:  Loss: 1.0703423023223877 \n",
      " Accuracy: 0.46880000829696655.\n",
      "Epoch 16, CIFAR-10 Batch 1:  Loss: 0.8791879415512085 \n",
      " Accuracy: 0.5180000066757202.\n",
      "Epoch 17, CIFAR-10 Batch 1:  Loss: 0.8299224972724915 \n",
      " Accuracy: 0.5127999782562256.\n",
      "Epoch 18, CIFAR-10 Batch 1:  Loss: 0.7989498376846313 \n",
      " Accuracy: 0.5034000277519226.\n",
      "Epoch 19, CIFAR-10 Batch 1:  Loss: 0.6767436265945435 \n",
      " Accuracy: 0.5184000134468079.\n",
      "Epoch 20, CIFAR-10 Batch 1:  Loss: 0.675275444984436 \n",
      " Accuracy: 0.5126000046730042.\n"
     ]
    }
   ],
   "source": [
    "\"\"\"\n",
    "DON'T MODIFY ANYTHING IN THIS CELL\n",
    "\"\"\"\n",
    "print('Checking the Training on a Single Batch...')\n",
    "with tf.Session() as sess:\n",
    "    # Initializing the variables\n",
    "    sess.run(tf.global_variables_initializer())\n",
    "    \n",
    "    # Training cycle\n",
    "    for epoch in range(epochs):\n",
    "        batch_i = 1\n",
    "        for batch_features, batch_labels in helper.load_preprocess_training_batch(batch_i, batch_size):\n",
    "            train_neural_network(sess, optimizer, keep_probability, batch_features, batch_labels)\n",
    "        print('Epoch {:>2}, CIFAR-10 Batch {}:  '.format(epoch + 1, batch_i), end='')\n",
    "        print_stats(sess, batch_features, batch_labels, cost, accuracy)"
   ]
  },
  {
   "cell_type": "markdown",
   "metadata": {},
   "source": [
    "### Fully Train the Model\n",
    "Now that you got a good accuracy with a single CIFAR-10 batch, try it with all five batches."
   ]
  },
  {
   "cell_type": "code",
   "execution_count": 17,
   "metadata": {},
   "outputs": [
    {
     "name": "stdout",
     "output_type": "stream",
     "text": [
      "Training...\n",
      "Epoch  1, CIFAR-10 Batch 1:  Loss: 2.3385608196258545 \n",
      " Accuracy: 0.251800000667572.\n",
      "Epoch  1, CIFAR-10 Batch 2:  Loss: 1.8436791896820068 \n",
      " Accuracy: 0.3140000104904175.\n",
      "Epoch  1, CIFAR-10 Batch 3:  Loss: 1.546412467956543 \n",
      " Accuracy: 0.3725999891757965.\n",
      "Epoch  1, CIFAR-10 Batch 4:  Loss: 1.551750898361206 \n",
      " Accuracy: 0.39980000257492065.\n",
      "Epoch  1, CIFAR-10 Batch 5:  Loss: 1.4860079288482666 \n",
      " Accuracy: 0.4368000030517578.\n",
      "Epoch  2, CIFAR-10 Batch 1:  Loss: 1.644478440284729 \n",
      " Accuracy: 0.4503999948501587.\n",
      "Epoch  2, CIFAR-10 Batch 2:  Loss: 1.6097476482391357 \n",
      " Accuracy: 0.4814000129699707.\n",
      "Epoch  2, CIFAR-10 Batch 3:  Loss: 1.315352439880371 \n",
      " Accuracy: 0.48260000348091125.\n",
      "Epoch  2, CIFAR-10 Batch 4:  Loss: 1.2519193887710571 \n",
      " Accuracy: 0.5016000270843506.\n",
      "Epoch  2, CIFAR-10 Batch 5:  Loss: 1.2153412103652954 \n",
      " Accuracy: 0.49239999055862427.\n",
      "Epoch  3, CIFAR-10 Batch 1:  Loss: 1.481714129447937 \n",
      " Accuracy: 0.47279998660087585.\n",
      "Epoch  3, CIFAR-10 Batch 2:  Loss: 1.326037883758545 \n",
      " Accuracy: 0.5070000290870667.\n",
      "Epoch  3, CIFAR-10 Batch 3:  Loss: 1.0563714504241943 \n",
      " Accuracy: 0.534600019454956.\n",
      "Epoch  3, CIFAR-10 Batch 4:  Loss: 1.1159889698028564 \n",
      " Accuracy: 0.5324000120162964.\n",
      "Epoch  3, CIFAR-10 Batch 5:  Loss: 1.0741937160491943 \n",
      " Accuracy: 0.5371999740600586.\n",
      "Epoch  4, CIFAR-10 Batch 1:  Loss: 1.3888227939605713 \n",
      " Accuracy: 0.5353999733924866.\n",
      "Epoch  4, CIFAR-10 Batch 2:  Loss: 1.1360664367675781 \n",
      " Accuracy: 0.5446000099182129.\n",
      "Epoch  4, CIFAR-10 Batch 3:  Loss: 1.0519670248031616 \n",
      " Accuracy: 0.5626000165939331.\n",
      "Epoch  4, CIFAR-10 Batch 4:  Loss: 0.9576271772384644 \n",
      " Accuracy: 0.5630000233650208.\n",
      "Epoch  4, CIFAR-10 Batch 5:  Loss: 0.9396905899047852 \n",
      " Accuracy: 0.5813999772071838.\n",
      "Epoch  5, CIFAR-10 Batch 1:  Loss: 1.2405675649642944 \n",
      " Accuracy: 0.5533999800682068.\n",
      "Epoch  5, CIFAR-10 Batch 2:  Loss: 1.0277827978134155 \n",
      " Accuracy: 0.5777999758720398.\n",
      "Epoch  5, CIFAR-10 Batch 3:  Loss: 1.0519835948944092 \n",
      " Accuracy: 0.5735999941825867.\n",
      "Epoch  5, CIFAR-10 Batch 4:  Loss: 0.9048241376876831 \n",
      " Accuracy: 0.5824000239372253.\n",
      "Epoch  5, CIFAR-10 Batch 5:  Loss: 0.8660038113594055 \n",
      " Accuracy: 0.5947999954223633.\n",
      "Epoch  6, CIFAR-10 Batch 1:  Loss: 1.1546027660369873 \n",
      " Accuracy: 0.5899999737739563.\n",
      "Epoch  6, CIFAR-10 Batch 2:  Loss: 0.8352811932563782 \n",
      " Accuracy: 0.5906000137329102.\n",
      "Epoch  6, CIFAR-10 Batch 3:  Loss: 0.8295692205429077 \n",
      " Accuracy: 0.5874000191688538.\n",
      "Epoch  6, CIFAR-10 Batch 4:  Loss: 0.7646095156669617 \n",
      " Accuracy: 0.5917999744415283.\n",
      "Epoch  6, CIFAR-10 Batch 5:  Loss: 0.7589235305786133 \n",
      " Accuracy: 0.6087999939918518.\n",
      "Epoch  7, CIFAR-10 Batch 1:  Loss: 0.9687846302986145 \n",
      " Accuracy: 0.6119999885559082.\n",
      "Epoch  7, CIFAR-10 Batch 2:  Loss: 0.7630413174629211 \n",
      " Accuracy: 0.5889999866485596.\n",
      "Epoch  7, CIFAR-10 Batch 3:  Loss: 0.6974994540214539 \n",
      " Accuracy: 0.6074000000953674.\n",
      "Epoch  7, CIFAR-10 Batch 4:  Loss: 0.7416412234306335 \n",
      " Accuracy: 0.6129999756813049.\n",
      "Epoch  7, CIFAR-10 Batch 5:  Loss: 0.6431544423103333 \n",
      " Accuracy: 0.6164000034332275.\n",
      "Epoch  8, CIFAR-10 Batch 1:  Loss: 0.9995412826538086 \n",
      " Accuracy: 0.6126000285148621.\n",
      "Epoch  8, CIFAR-10 Batch 2:  Loss: 0.6840451955795288 \n",
      " Accuracy: 0.6075999736785889.\n",
      "Epoch  8, CIFAR-10 Batch 3:  Loss: 0.46541327238082886 \n",
      " Accuracy: 0.6191999912261963.\n",
      "Epoch  8, CIFAR-10 Batch 4:  Loss: 0.685236930847168 \n",
      " Accuracy: 0.6150000095367432.\n",
      "Epoch  8, CIFAR-10 Batch 5:  Loss: 0.5215123891830444 \n",
      " Accuracy: 0.6212000250816345.\n",
      "Epoch  9, CIFAR-10 Batch 1:  Loss: 0.7196062803268433 \n",
      " Accuracy: 0.6226000189781189.\n",
      "Epoch  9, CIFAR-10 Batch 2:  Loss: 0.5246233940124512 \n",
      " Accuracy: 0.6194000244140625.\n",
      "Epoch  9, CIFAR-10 Batch 3:  Loss: 0.3567224144935608 \n",
      " Accuracy: 0.6136000156402588.\n",
      "Epoch  9, CIFAR-10 Batch 4:  Loss: 0.4593621790409088 \n",
      " Accuracy: 0.6313999891281128.\n",
      "Epoch  9, CIFAR-10 Batch 5:  Loss: 0.42422524094581604 \n",
      " Accuracy: 0.6255999803543091.\n",
      "Epoch 10, CIFAR-10 Batch 1:  Loss: 0.5417779088020325 \n",
      " Accuracy: 0.6227999925613403.\n",
      "Epoch 10, CIFAR-10 Batch 2:  Loss: 0.36262989044189453 \n",
      " Accuracy: 0.6273999810218811.\n",
      "Epoch 10, CIFAR-10 Batch 3:  Loss: 0.3888220191001892 \n",
      " Accuracy: 0.6092000007629395.\n",
      "Epoch 10, CIFAR-10 Batch 4:  Loss: 0.38142356276512146 \n",
      " Accuracy: 0.6146000027656555.\n",
      "Epoch 10, CIFAR-10 Batch 5:  Loss: 0.4058911204338074 \n",
      " Accuracy: 0.6233999729156494.\n",
      "Epoch 11, CIFAR-10 Batch 1:  Loss: 0.5214806199073792 \n",
      " Accuracy: 0.6176000237464905.\n",
      "Epoch 11, CIFAR-10 Batch 2:  Loss: 0.3741097152233124 \n",
      " Accuracy: 0.6302000284194946.\n",
      "Epoch 11, CIFAR-10 Batch 3:  Loss: 0.29483580589294434 \n",
      " Accuracy: 0.6295999884605408.\n",
      "Epoch 11, CIFAR-10 Batch 4:  Loss: 0.33890047669410706 \n",
      " Accuracy: 0.629800021648407.\n",
      "Epoch 11, CIFAR-10 Batch 5:  Loss: 0.2529572546482086 \n",
      " Accuracy: 0.6237999796867371.\n",
      "Epoch 12, CIFAR-10 Batch 1:  Loss: 0.39150649309158325 \n",
      " Accuracy: 0.6263999938964844.\n",
      "Epoch 12, CIFAR-10 Batch 2:  Loss: 0.2510637938976288 \n",
      " Accuracy: 0.625.\n",
      "Epoch 12, CIFAR-10 Batch 3:  Loss: 0.20066802203655243 \n",
      " Accuracy: 0.633400022983551.\n",
      "Epoch 12, CIFAR-10 Batch 4:  Loss: 0.23904195427894592 \n",
      " Accuracy: 0.6272000074386597.\n",
      "Epoch 12, CIFAR-10 Batch 5:  Loss: 0.14280807971954346 \n",
      " Accuracy: 0.6204000115394592.\n",
      "Epoch 13, CIFAR-10 Batch 1:  Loss: 0.2251894474029541 \n",
      " Accuracy: 0.6186000108718872.\n",
      "Epoch 13, CIFAR-10 Batch 2:  Loss: 0.20068585872650146 \n",
      " Accuracy: 0.6305999755859375.\n",
      "Epoch 13, CIFAR-10 Batch 3:  Loss: 0.1494228094816208 \n",
      " Accuracy: 0.621399998664856.\n",
      "Epoch 13, CIFAR-10 Batch 4:  Loss: 0.15464861690998077 \n",
      " Accuracy: 0.6168000102043152.\n",
      "Epoch 13, CIFAR-10 Batch 5:  Loss: 0.12963876128196716 \n",
      " Accuracy: 0.6122000217437744.\n",
      "Epoch 14, CIFAR-10 Batch 1:  Loss: 0.2048720419406891 \n",
      " Accuracy: 0.6244000196456909.\n",
      "Epoch 14, CIFAR-10 Batch 2:  Loss: 0.13762983679771423 \n",
      " Accuracy: 0.6326000094413757.\n",
      "Epoch 14, CIFAR-10 Batch 3:  Loss: 0.08625827729701996 \n",
      " Accuracy: 0.6322000026702881.\n",
      "Epoch 14, CIFAR-10 Batch 4:  Loss: 0.1474951207637787 \n",
      " Accuracy: 0.629800021648407.\n",
      "Epoch 14, CIFAR-10 Batch 5:  Loss: 0.09529413282871246 \n",
      " Accuracy: 0.6159999966621399.\n",
      "Epoch 15, CIFAR-10 Batch 1:  Loss: 0.1580277383327484 \n",
      " Accuracy: 0.6370000243186951.\n",
      "Epoch 15, CIFAR-10 Batch 2:  Loss: 0.07077531516551971 \n",
      " Accuracy: 0.6205999851226807.\n",
      "Epoch 15, CIFAR-10 Batch 3:  Loss: 0.0467778742313385 \n",
      " Accuracy: 0.6305999755859375.\n",
      "Epoch 15, CIFAR-10 Batch 4:  Loss: 0.11612854897975922 \n",
      " Accuracy: 0.6190000176429749.\n",
      "Epoch 15, CIFAR-10 Batch 5:  Loss: 0.11263682693243027 \n",
      " Accuracy: 0.6385999917984009.\n",
      "Epoch 16, CIFAR-10 Batch 1:  Loss: 0.12705978751182556 \n",
      " Accuracy: 0.6190000176429749.\n",
      "Epoch 16, CIFAR-10 Batch 2:  Loss: 0.051579345017671585 \n",
      " Accuracy: 0.6154000163078308.\n",
      "Epoch 16, CIFAR-10 Batch 3:  Loss: 0.05483043193817139 \n",
      " Accuracy: 0.6230000257492065.\n",
      "Epoch 16, CIFAR-10 Batch 4:  Loss: 0.17375294864177704 \n",
      " Accuracy: 0.6222000122070312.\n",
      "Epoch 16, CIFAR-10 Batch 5:  Loss: 0.11524484306573868 \n",
      " Accuracy: 0.6263999938964844.\n",
      "Epoch 17, CIFAR-10 Batch 1:  Loss: 0.08221141993999481 \n",
      " Accuracy: 0.6186000108718872.\n",
      "Epoch 17, CIFAR-10 Batch 2:  Loss: 0.06958417594432831 \n",
      " Accuracy: 0.616599977016449.\n",
      "Epoch 17, CIFAR-10 Batch 3:  Loss: 0.03289365768432617 \n",
      " Accuracy: 0.6276000142097473.\n",
      "Epoch 17, CIFAR-10 Batch 4:  Loss: 0.04014553502202034 \n",
      " Accuracy: 0.6111999750137329.\n",
      "Epoch 17, CIFAR-10 Batch 5:  Loss: 0.06576251983642578 \n",
      " Accuracy: 0.6110000014305115.\n",
      "Epoch 18, CIFAR-10 Batch 1:  Loss: 0.06975753605365753 \n",
      " Accuracy: 0.6104000210762024.\n",
      "Epoch 18, CIFAR-10 Batch 2:  Loss: 0.03932308033108711 \n",
      " Accuracy: 0.626800000667572.\n",
      "Epoch 18, CIFAR-10 Batch 3:  Loss: 0.01774468645453453 \n",
      " Accuracy: 0.6245999932289124.\n",
      "Epoch 18, CIFAR-10 Batch 4:  Loss: 0.04996102675795555 \n",
      " Accuracy: 0.6140000224113464.\n",
      "Epoch 18, CIFAR-10 Batch 5:  Loss: 0.035466380417346954 \n",
      " Accuracy: 0.6061999797821045.\n",
      "Epoch 19, CIFAR-10 Batch 1:  Loss: 0.023012038320302963 \n",
      " Accuracy: 0.6227999925613403.\n",
      "Epoch 19, CIFAR-10 Batch 2:  Loss: 0.018177146092057228 \n",
      " Accuracy: 0.6208000183105469.\n",
      "Epoch 19, CIFAR-10 Batch 3:  Loss: 0.03245005011558533 \n",
      " Accuracy: 0.6322000026702881.\n",
      "Epoch 19, CIFAR-10 Batch 4:  Loss: 0.03819487243890762 \n",
      " Accuracy: 0.6194000244140625.\n",
      "Epoch 19, CIFAR-10 Batch 5:  Loss: 0.011149383150041103 \n",
      " Accuracy: 0.628000020980835.\n"
     ]
    },
    {
     "name": "stdout",
     "output_type": "stream",
     "text": [
      "Epoch 20, CIFAR-10 Batch 1:  Loss: 0.03737753629684448 \n",
      " Accuracy: 0.6273999810218811.\n",
      "Epoch 20, CIFAR-10 Batch 2:  Loss: 0.0028887572698295116 \n",
      " Accuracy: 0.6248000264167786.\n",
      "Epoch 20, CIFAR-10 Batch 3:  Loss: 0.02221311256289482 \n",
      " Accuracy: 0.6259999871253967.\n",
      "Epoch 20, CIFAR-10 Batch 4:  Loss: 0.04260638356208801 \n",
      " Accuracy: 0.625.\n",
      "Epoch 20, CIFAR-10 Batch 5:  Loss: 0.013868400827050209 \n",
      " Accuracy: 0.6200000047683716.\n"
     ]
    }
   ],
   "source": [
    "\"\"\"\n",
    "DON'T MODIFY ANYTHING IN THIS CELL\n",
    "\"\"\"\n",
    "save_model_path = './image_classification'\n",
    "\n",
    "print('Training...')\n",
    "with tf.Session() as sess:\n",
    "    # Initializing the variables\n",
    "    sess.run(tf.global_variables_initializer())\n",
    "    \n",
    "    # Training cycle\n",
    "    for epoch in range(epochs):\n",
    "        # Loop over all batches\n",
    "        n_batches = 5\n",
    "        for batch_i in range(1, n_batches + 1):\n",
    "            for batch_features, batch_labels in helper.load_preprocess_training_batch(batch_i, batch_size):\n",
    "                train_neural_network(sess, optimizer, keep_probability, batch_features, batch_labels)\n",
    "            print('Epoch {:>2}, CIFAR-10 Batch {}:  '.format(epoch + 1, batch_i), end='')\n",
    "            print_stats(sess, batch_features, batch_labels, cost, accuracy)\n",
    "            \n",
    "    # Save Model\n",
    "    saver = tf.train.Saver()\n",
    "    save_path = saver.save(sess, save_model_path)"
   ]
  },
  {
   "cell_type": "markdown",
   "metadata": {},
   "source": [
    "# Checkpoint\n",
    "The model has been saved to disk.\n",
    "## Test Model\n",
    "Test your model against the test dataset.  This will be your final accuracy. You should have an accuracy greater than 50%. If you don't, keep tweaking the model architecture and parameters."
   ]
  },
  {
   "cell_type": "code",
   "execution_count": 18,
   "metadata": {},
   "outputs": [
    {
     "name": "stdout",
     "output_type": "stream",
     "text": [
      "INFO:tensorflow:Restoring parameters from ./image_classification\n",
      "Testing Accuracy: 0.623109076433121\n",
      "\n"
     ]
    },
    {
     "data": {
      "image/png": "[encoded data removed]",
      "text/plain": [
       "<matplotlib.figure.Figure at 0x122914198>"
      ]
     },
     "metadata": {
      "image/png": {
       "height": 319,
       "width": 355
      }
     },
     "output_type": "display_data"
    }
   ],
   "source": [
    "\"\"\"\n",
    "DON'T MODIFY ANYTHING IN THIS CELL\n",
    "\"\"\"\n",
    "%matplotlib inline\n",
    "%config InlineBackend.figure_format = 'retina'\n",
    "\n",
    "import tensorflow as tf\n",
    "import pickle\n",
    "import helper\n",
    "import random\n",
    "\n",
    "# Set batch size if not already set\n",
    "try:\n",
    "    if batch_size:\n",
    "        pass\n",
    "except NameError:\n",
    "    batch_size = 64\n",
    "\n",
    "save_model_path = './image_classification'\n",
    "n_samples = 4\n",
    "top_n_predictions = 3\n",
    "\n",
    "def test_model():\n",
    "    \"\"\"\n",
    "    Test the saved model against the test dataset\n",
    "    \"\"\"\n",
    "\n",
    "    test_features, test_labels = pickle.load(open('preprocess_training.p', mode='rb'))\n",
    "    loaded_graph = tf.Graph()\n",
    "\n",
    "    with tf.Session(graph=loaded_graph) as sess:\n",
    "        # Load model\n",
    "        loader = tf.train.import_meta_graph(save_model_path + '.meta')\n",
    "        loader.restore(sess, save_model_path)\n",
    "\n",
    "        # Get Tensors from loaded model\n",
    "        loaded_x = loaded_graph.get_tensor_by_name('x:0')\n",
    "        loaded_y = loaded_graph.get_tensor_by_name('y:0')\n",
    "        loaded_keep_prob = loaded_graph.get_tensor_by_name('keep_prob:0')\n",
    "        loaded_logits = loaded_graph.get_tensor_by_name('logits:0')\n",
    "        loaded_acc = loaded_graph.get_tensor_by_name('accuracy:0')\n",
    "        \n",
    "        # Get accuracy in batches for memory limitations\n",
    "        test_batch_acc_total = 0\n",
    "        test_batch_count = 0\n",
    "        \n",
    "        for train_feature_batch, train_label_batch in helper.batch_features_labels(test_features, test_labels, batch_size):\n",
    "            test_batch_acc_total += sess.run(\n",
    "                loaded_acc,\n",
    "                feed_dict={loaded_x: train_feature_batch, loaded_y: train_label_batch, loaded_keep_prob: 1.0})\n",
    "            test_batch_count += 1\n",
    "\n",
    "        print('Testing Accuracy: {}\\n'.format(test_batch_acc_total/test_batch_count))\n",
    "\n",
    "        # Print Random Samples\n",
    "        random_test_features, random_test_labels = tuple(zip(*random.sample(list(zip(test_features, test_labels)), n_samples)))\n",
    "        random_test_predictions = sess.run(\n",
    "            tf.nn.top_k(tf.nn.softmax(loaded_logits), top_n_predictions),\n",
    "            feed_dict={loaded_x: random_test_features, loaded_y: random_test_labels, loaded_keep_prob: 1.0})\n",
    "        helper.display_image_predictions(random_test_features, random_test_labels, random_test_predictions)\n",
    "\n",
    "\n",
    "test_model()"
   ]
  },
  {
   "cell_type": "markdown",
   "metadata": {},
   "source": [
    "## Why 50-80% Accuracy?\n",
    "You might be wondering why you can't get an accuracy any higher. First things first, 50% isn't bad for a simple CNN.  Pure guessing would get you 10% accuracy. That's because there are many more techniques that can be applied to your model and we recemmond that once you are done with this project, you explore!\n",
    "\n",
    "## Submitting This Project\n",
    "When submitting this project, make sure to run all the cells before saving the notebook.  Save the notebook file as \"image_classification.ipynb\" and save it as a HTML file under \"File\" -> \"Download as\".  Include the \"helper.py\" and \"problem_unittests.py\" files in your submission."
   ]
  }
 ],
 "metadata": {
  "kernelspec": {
   "display_name": "Python 3",
   "language": "python",
   "name": "python3"
  },
  "language_info": {
   "codemirror_mode": {
    "name": "ipython",
    "version": 3
   },
   "file_extension": ".py",
   "mimetype": "text/x-python",
   "name": "python",
   "nbconvert_exporter": "python",
   "pygments_lexer": "ipython3",
   "version": "3.6.2"
  }
 },
 "nbformat": 4,
 "nbformat_minor": 1
}
